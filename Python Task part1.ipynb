{
 "cells": [
  {
   "cell_type": "code",
   "execution_count": null,
   "id": "a017a097-25b0-42e9-8913-a9d9cfcf1b45",
   "metadata": {},
   "outputs": [],
   "source": [
    "Q1. Create a function which will take a list as an argument and return the product of all the numbers\n",
    "after creating a flat list.\n",
    "Use the below-given list as an argument for your function.\n",
    "list1 = [1,2,3,4, [44,55,66, True], False, (34,56,78,89,34), {1,2,3,3,2,1}, {1:34, \"key2\": [55, 67, 78, 89], 4: (45,\n",
    "22, 61, 34)}, [56, 'data science'], 'Machine Learning']\n",
    "Note: you must extract numeric keys and values of the dictionary also."
   ]
  },
  {
   "cell_type": "code",
   "execution_count": 22,
   "id": "2fd0941a-687b-4aa6-ae23-ebaecfb8f068",
   "metadata": {},
   "outputs": [],
   "source": [
    "def flatten_and_multiply(lst):\n",
    "    def flatten_recursive(item):\n",
    "        if isinstance(item, (list, tuple)):\n",
    "            return [elem for sublist in item for elem in flatten_recursive(sublist)]\n",
    "        elif isinstance(item, dict):\n",
    "            return [elem for key, value in item.items() for elem in flatten_recursive(key) + flatten_recursive(value)]\n",
    "        elif isinstance(item, (int, float)):\n",
    "            return [item]\n",
    "        else:\n",
    "            return []\n",
    "\n",
    "    flattened_list = flatten_recursive(lst)\n",
    "    product = 1\n",
    "\n",
    "    for num in flattened_list:\n",
    "        product *= num\n",
    "\n",
    "    return product"
   ]
  },
  {
   "cell_type": "code",
   "execution_count": 23,
   "id": "57dad945-571c-4987-a9c2-967950106cb8",
   "metadata": {},
   "outputs": [
    {
     "name": "stdout",
     "output_type": "stream",
     "text": [
      "Product of all numeric elements: 0\n"
     ]
    }
   ],
   "source": [
    "# Example usage\n",
    "list1 = [1, 2, 3, 4, [44, 55, 66, True], False, (34, 56, 78, 89, 34), {1, 2, 3, 3, 2, 1}, {1: 34, \"key2\": [55, 67, 78, 89], 4: (45, 22, 61, 34)}, [56, 'data science'], 'Machine Learning']\n",
    "\n",
    "result = flatten_and_multiply(list1)\n",
    "print(\"Product of all numeric elements:\", result)"
   ]
  },
  {
   "cell_type": "code",
   "execution_count": null,
   "id": "44bd6836-832b-4673-89d4-4177f9104a63",
   "metadata": {},
   "outputs": [],
   "source": [
    "Q2. Write a python program for encrypting a message sent to you by your friend. The logic of encryption\n",
    "should be such that, for a the output should be z. For b, the output should be y. For c, the output should\n",
    "be x respectively. Also, the whitespace should be replaced with a dollar sign. Keep the punctuation\n",
    "marks unchanged.\n",
    "Input Sentence: I want to become a Data Scientist.\n",
    "Encrypt the above input sentence using the program you just created.\n",
    "Note: Convert the given input sentence into lowercase before encrypting. The final output should be\n",
    "lowercase."
   ]
  },
  {
   "cell_type": "code",
   "execution_count": 24,
   "id": "8e3090fe-28a7-404e-928a-b9d46e283ec7",
   "metadata": {},
   "outputs": [],
   "source": [
    "def encrypt_message(message):\n",
    "    encrypted_message = \"\"\n",
    "    for char in message:\n",
    "        if char.isalpha():\n",
    "            # Encrypt letters\n",
    "            encrypted_char = chr(ord('z') - (ord(char.lower()) - ord('a')))\n",
    "            encrypted_message += encrypted_char\n",
    "        elif char.isspace():\n",
    "            # Replace whitespace with a dollar sign\n",
    "            encrypted_message += '$'\n",
    "        else:\n",
    "            # Keep punctuation marks unchanged\n",
    "            encrypted_message += char\n",
    "\n",
    "    return encrypted_message"
   ]
  },
  {
   "cell_type": "code",
   "execution_count": 25,
   "id": "d432fa26-7b1a-4abf-b4f0-4da2e14a3b11",
   "metadata": {},
   "outputs": [],
   "source": [
    "# Input sentence\n",
    "input_sentence = \"I want to become a Data Scientist.\""
   ]
  },
  {
   "cell_type": "code",
   "execution_count": 26,
   "id": "5d71e92c-7d06-492a-b176-e2b79360322d",
   "metadata": {},
   "outputs": [
    {
     "data": {
      "text/plain": [
       "'I want to become a Data Scientist.'"
      ]
     },
     "execution_count": 26,
     "metadata": {},
     "output_type": "execute_result"
    }
   ],
   "source": [
    "input_sentence"
   ]
  },
  {
   "cell_type": "code",
   "execution_count": 27,
   "id": "9f08ad60-6321-446e-8a70-9703b690a0f5",
   "metadata": {},
   "outputs": [],
   "source": [
    "# Convert the input sentence to lowercase\n",
    "lowercase_sentence = input_sentence.lower()"
   ]
  },
  {
   "cell_type": "code",
   "execution_count": 28,
   "id": "b409f9ad-934f-44bf-bd8a-a88225bb1658",
   "metadata": {},
   "outputs": [
    {
     "data": {
      "text/plain": [
       "'i want to become a data scientist.'"
      ]
     },
     "execution_count": 28,
     "metadata": {},
     "output_type": "execute_result"
    }
   ],
   "source": [
    "lowercase_sentence"
   ]
  },
  {
   "cell_type": "code",
   "execution_count": 29,
   "id": "055ec4ea-000d-4613-8894-c03db5521097",
   "metadata": {},
   "outputs": [],
   "source": [
    "# Encrypt the sentence\n",
    "encrypted_sentence = encrypt_message(lowercase_sentence)"
   ]
  },
  {
   "cell_type": "code",
   "execution_count": 30,
   "id": "5de32b86-c75d-4c56-ab51-3d59a61beeba",
   "metadata": {},
   "outputs": [
    {
     "data": {
      "text/plain": [
       "'r$dzmg$gl$yvxlnv$z$wzgz$hxrvmgrhg.'"
      ]
     },
     "execution_count": 30,
     "metadata": {},
     "output_type": "execute_result"
    }
   ],
   "source": [
    "encrypted_sentence"
   ]
  },
  {
   "cell_type": "code",
   "execution_count": 31,
   "id": "97ed5cda-d25c-4ca0-ac65-7eb1811eca30",
   "metadata": {},
   "outputs": [
    {
     "name": "stdout",
     "output_type": "stream",
     "text": [
      "Original Sentence: i want to become a data scientist.\n",
      "Encrypted Sentence: r$dzmg$gl$yvxlnv$z$wzgz$hxrvmgrhg.\n"
     ]
    }
   ],
   "source": [
    "# Display the results\n",
    "print(\"Original Sentence:\", lowercase_sentence)\n",
    "print(\"Encrypted Sentence:\", encrypted_sentence)"
   ]
  }
 ],
 "metadata": {
  "kernelspec": {
   "display_name": "Python 3 (ipykernel)",
   "language": "python",
   "name": "python3"
  },
  "language_info": {
   "codemirror_mode": {
    "name": "ipython",
    "version": 3
   },
   "file_extension": ".py",
   "mimetype": "text/x-python",
   "name": "python",
   "nbconvert_exporter": "python",
   "pygments_lexer": "ipython3",
   "version": "3.10.8"
  }
 },
 "nbformat": 4,
 "nbformat_minor": 5
}
